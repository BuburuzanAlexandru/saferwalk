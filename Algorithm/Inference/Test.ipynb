{
 "cells": [
  {
   "cell_type": "code",
   "execution_count": null,
   "id": "1d24e6f5-822e-4ca6-9df2-83eefd38c160",
   "metadata": {},
   "outputs": [],
   "source": [
    "import os\n",
    "import time\n",
    "import osmnx as ox\n",
    "from Inference.handler import SaferWalkHandler\n",
    "\n",
    "import plotly.express as px\n",
    "px.set_mapbox_access_token(\"[mapbox token]\")"
   ]
  },
  {
   "cell_type": "code",
   "execution_count": null,
   "id": "a3c6ad94-509e-49e3-81ec-b937b4f24ec7",
   "metadata": {},
   "outputs": [],
   "source": [
    "GRAPH_PATH = 'Inference/graph.graphml'\n",
    "DISTRIBUTION_PATH = 'Inference/distribution_k25_precalc.obj'"
   ]
  },
  {
   "cell_type": "code",
   "execution_count": null,
   "id": "89486978-3d04-4d7a-b3eb-dde254525c47",
   "metadata": {},
   "outputs": [],
   "source": [
    "handler = SaferWalkHandler(GRAPH_PATH, DISTRIBUTION_PATH)"
   ]
  },
  {
   "cell_type": "code",
   "execution_count": null,
   "id": "491e0d50-4465-45c2-adca-39cb748a0fb9",
   "metadata": {},
   "outputs": [],
   "source": [
    "# ox.plot_graph(handler.G, figsize=(15, 15), node_size=5)"
   ]
  },
  {
   "cell_type": "code",
   "execution_count": null,
   "id": "3ede96be-17ec-48cd-8249-958fbfdffa58",
   "metadata": {},
   "outputs": [],
   "source": [
    "start = tuple(reversed((53.469792, -2.233925)))\n",
    "# dest = tuple(reversed((53.458301, -2.219352)))\n",
    "dest = tuple(reversed((53.443069, -2.215992)))\n",
    "# dest = tuple(reversed((53.448851, -2.272473)))\n",
    "# dest = tuple(reversed((53.491269, -2.255023)))"
   ]
  },
  {
   "cell_type": "code",
   "execution_count": null,
   "id": "a5501071-7360-4a25-8722-4f26a97cbf39",
   "metadata": {},
   "outputs": [],
   "source": [
    "a = time.time()\n",
    "routes = handler.predict(start, dest)\n",
    "print('Total time:', time.time() - a)"
   ]
  },
  {
   "cell_type": "markdown",
   "id": "f4a35289-63ec-43e6-b140-6829770f6d86",
   "metadata": {},
   "source": [
    "#### Display routes"
   ]
  },
  {
   "cell_type": "code",
   "execution_count": null,
   "id": "0ab431df-2979-46e2-ba34-e56e45bb5373",
   "metadata": {},
   "outputs": [],
   "source": [
    "routes"
   ]
  },
  {
   "cell_type": "code",
   "execution_count": null,
   "id": "3ceea07a-6080-4fb9-9e8e-fbe360003758",
   "metadata": {},
   "outputs": [],
   "source": [
    "df = {\n",
    "    'long': [x[0] for x in routes['safer']['route']],\n",
    "    'lat': [x[1] for x in routes['safer']['route']]\n",
    "}"
   ]
  },
  {
   "cell_type": "code",
   "execution_count": null,
   "id": "afdbb8f1-2732-46f3-ab55-f7ccb42732cc",
   "metadata": {},
   "outputs": [],
   "source": [
    "fig = px.line_mapbox(df, lat='lat', lon='long', zoom=10, height=600)\n",
    "fig.show()"
   ]
  },
  {
   "cell_type": "code",
   "execution_count": null,
   "id": "d640452b",
   "metadata": {},
   "outputs": [],
   "source": [
    "df_fastest = {\n",
    "    'long': [x[0] for x in routes['fastest']['route']],\n",
    "    'lat': [x[1] for x in routes['fastest']['route']]\n",
    "}"
   ]
  },
  {
   "cell_type": "code",
   "execution_count": null,
   "id": "e48ab9de-3787-4c3a-98b6-d7fe50d752dd",
   "metadata": {},
   "outputs": [],
   "source": [
    "fig = px.line_mapbox(df_fastest, lat='lat', lon='long', zoom=10, height=600)\n",
    "fig.show()"
   ]
  },
  {
   "cell_type": "code",
   "execution_count": null,
   "id": "4d1358c8-b130-41d7-874d-4e12d075f8a8",
   "metadata": {},
   "outputs": [],
   "source": []
  }
 ],
 "metadata": {
  "kernelspec": {
   "display_name": "ox",
   "language": "python",
   "name": "ox"
  },
  "language_info": {
   "codemirror_mode": {
    "name": "ipython",
    "version": 3
   },
   "file_extension": ".py",
   "mimetype": "text/x-python",
   "name": "python",
   "nbconvert_exporter": "python",
   "pygments_lexer": "ipython3",
   "version": "3.10.2"
  },
  "latex_envs": {
   "LaTeX_envs_menu_present": true,
   "autoclose": false,
   "autocomplete": true,
   "bibliofile": "biblio.bib",
   "cite_by": "apalike",
   "current_citInitial": 1,
   "eqLabelWithNumbers": true,
   "eqNumInitial": 1,
   "hotkeys": {
    "equation": "Ctrl-E",
    "itemize": "Ctrl-I"
   },
   "labels_anchors": false,
   "latex_user_defs": false,
   "report_style_numbering": false,
   "user_envs_cfg": false
  },
  "varInspector": {
   "cols": {
    "lenName": 16,
    "lenType": 16,
    "lenVar": 40
   },
   "kernels_config": {
    "python": {
     "delete_cmd_postfix": "",
     "delete_cmd_prefix": "del ",
     "library": "var_list.py",
     "varRefreshCmd": "print(var_dic_list())"
    },
    "r": {
     "delete_cmd_postfix": ") ",
     "delete_cmd_prefix": "rm(",
     "library": "var_list.r",
     "varRefreshCmd": "cat(var_dic_list()) "
    }
   },
   "types_to_exclude": [
    "module",
    "function",
    "builtin_function_or_method",
    "instance",
    "_Feature"
   ],
   "window_display": false
  }
 },
 "nbformat": 4,
 "nbformat_minor": 5
}
